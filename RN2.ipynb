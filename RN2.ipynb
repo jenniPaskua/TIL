{
 "cells": [
  {
   "cell_type": "markdown",
   "id": "8b67f7ed",
   "metadata": {},
   "source": [
    "## useRef"
   ]
  },
  {
   "cell_type": "markdown",
   "id": "54e5a7b6",
   "metadata": {},
   "source": [
    "- 웹 프로그래밍 시 특정 DOM을 선택해야 하는 상황에서 getElementById 혹은 querySelector와 같은 DOM selector 함수를 사용합니다. \n",
    "- 리액트 네이티브에서도 웹 프로그래밍처럼 특정 컴포넌트를 선택해야 하는 경우가 있다. \n",
    "- 이런 상황에서 사용할 수 있는 Hook 함수로 useRef가 있다. "
   ]
  },
  {
   "cell_type": "raw",
   "id": "15ab5813",
   "metadata": {},
   "source": [
    "const refName = useRef(null);\n",
    "\n",
    "refName.current.focuse();\n",
    "\n",
    "<TextInput ref={refName}...>"
   ]
  },
  {
   "cell_type": "markdown",
   "id": "1e6b83ce",
   "metadata": {},
   "source": [
    "## useMemo"
   ]
  },
  {
   "cell_type": "markdown",
   "id": "e5ba63be",
   "metadata": {},
   "source": [
    "- useMemo는 동일한 연산의 반복 수행을 제거해서 성능을 최적화하는 데 사용된다. \n",
    "- userMemo(() => {}, [])\n",
    "- 첫 번째 파라미터에는 함수를 전달하고, 두 번째 파라미터에는 함수 실행 조건을 배열로 전달하면 지정된 값에 변화가 있는 경우에만 함수가 호출된다. "
   ]
  },
  {
   "cell_type": "markdown",
   "id": "2f8d48d6",
   "metadata": {},
   "source": [
    "## 커스텀 Hooks 만들기"
   ]
  },
  {
   "cell_type": "markdown",
   "id": "d935158d",
   "metadata": {},
   "source": [
    "- 비동기 화면에서는 작업이 완료되기 전에 화면 전체 혹은 특정 버튼들이 사용할 수 없는 상태로 변경된다. \n",
    "- API 요청을 보내는 비동기 동작에서는 선행된 작업이 마무리되기 전에 추가적인 요청이 들어오지 않도록 화면을 구성하는 것이 좋다\n"
   ]
  },
  {
   "cell_type": "markdown",
   "id": "8f77473e",
   "metadata": {},
   "source": [
    "## Context API"
   ]
  },
  {
   "cell_type": "markdown",
   "id": "b7471ec9",
   "metadata": {},
   "source": [
    "- 전역적으로 상태를 관리하기 위해 Context AP를 사용한다. \n",
    "- expo init react-native-context\n",
    "- Context를 생성해 필요한 컴포넌트에서 데이터를 바로 받아올 수 있다. "
   ]
  },
  {
   "cell_type": "markdown",
   "id": "833ff8e3",
   "metadata": {},
   "source": [
    "- 기존 : 컴포넌트 간 상태 전달은 부모에서 자식으로 props 이용\n",
    "    - 단점 : 컴포넌트의 계층이 복잡해질수록 개발 및 유지보수가 어렵다 -> Context API 로 해결할 수 있음\n"
   ]
  },
  {
   "cell_type": "code",
   "execution_count": null,
   "id": "f670fee0",
   "metadata": {},
   "outputs": [],
   "source": []
  },
  {
   "cell_type": "markdown",
   "id": "6164c784",
   "metadata": {},
   "source": [
    "#### Consumer"
   ]
  },
  {
   "cell_type": "markdown",
   "id": "7c1d3d3c",
   "metadata": {},
   "source": [
    "- 생성된 Context 오브젝트는 입력된 기본값 외에도 Consumer 컴포넌트와 Provider 컴포넌트를 갖고 있다. \n",
    "- Consumer 컴포넌트는 상위 컴포넌트 중 가장 가까운 곳에 있는 Provider 컴포넌트가 전달하는 데이터를 이용한다. \n",
    "- 만약 상위 컴포넌트 중 Provider 컴포넌트가 없다면 createContext 함수의 파라미터로 전달된 기본값을 사용한다. "
   ]
  },
  {
   "cell_type": "markdown",
   "id": "8c0b5a0b",
   "metadata": {},
   "source": [
    "- Consumer 컴포넌트의 자식은 반드시 리액트 컴포넌트를 반환하는 함수여야 하고, 이 함수는 Context의 현재값을 파라미터로 전달받아 데이터를 사용할 수 있다. "
   ]
  },
  {
   "cell_type": "markdown",
   "id": "fdb549bb",
   "metadata": {},
   "source": [
    "## Provider"
   ]
  },
  {
   "cell_type": "markdown",
   "id": "ac4242b9",
   "metadata": {},
   "source": [
    "- context에 있는 Provider 컴포넌트는 하위 컴포넌트에 Context의 변화를 알리는 역할을 한다. \n",
    "- Provider 컴포넌트는 value를 받아서 모든 하위 컴포넌트에 전달하고, 하위 컴포넌트는 Provider 컴포넌트의 value가 변경될 때마다 다시 렌더링됩니다. "
   ]
  },
  {
   "cell_type": "markdown",
   "id": "b9d6c1a5",
   "metadata": {},
   "source": [
    "- Provider 컴포넌트로 감싸게 되면 더이상 Context의 기본값을 사용하지 않고 상위 컴포넌트인 Provider 컴포넌트가 전달하는 데이터를 사용하도록 한다. \n",
    "- 하지만, Provider 컴포넌트에서 어떤 값도 전달되지 않으면 함수 파라미터로 undefined가 전달되면서 오류 메시지가 나타난다."
   ]
  }
 ],
 "metadata": {
  "kernelspec": {
   "display_name": "Python 3 (ipykernel)",
   "language": "python",
   "name": "python3"
  },
  "language_info": {
   "codemirror_mode": {
    "name": "ipython",
    "version": 3
   },
   "file_extension": ".py",
   "mimetype": "text/x-python",
   "name": "python",
   "nbconvert_exporter": "python",
   "pygments_lexer": "ipython3",
   "version": "3.9.12"
  }
 },
 "nbformat": 4,
 "nbformat_minor": 5
}
