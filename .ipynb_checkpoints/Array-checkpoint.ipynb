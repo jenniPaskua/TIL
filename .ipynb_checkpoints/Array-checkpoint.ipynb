{
 "cells": [
  {
   "cell_type": "markdown",
   "id": "1c906c80",
   "metadata": {},
   "source": [
    "## 꼭 알아둬야 할 자료구조 : 배열 (Array)"
   ]
  },
  {
   "cell_type": "markdown",
   "id": "a2622d1c",
   "metadata": {},
   "source": [
    "- 데이터를 나열하고, 각 데이터를 인덱스에 대응하도록 구성한 데이터 구조\n",
    "- 파이썬에서는 리스트 타입이 배열 기능을 제공하고 있음 "
   ]
  },
  {
   "cell_type": "markdown",
   "id": "11438927",
   "metadata": {},
   "source": [
    "## 1. 배열이 왜 필요할까?"
   ]
  },
  {
   "cell_type": "markdown",
   "id": "5df58b4c",
   "metadata": {},
   "source": [
    "- 같은 종류의 데이터를 효율적으로 관리하기 위해 사용\n",
    "- 같은 종류의 데이터를 순차적으로 저장"
   ]
  },
  {
   "cell_type": "markdown",
   "id": "c184b1d1",
   "metadata": {},
   "source": [
    "- 배열의 장점\n",
    "    - 빠른 접근 가능\n",
    "- 배열의 단점\n",
    "    - 추가/삭제가 쉽지 않음 \n",
    "    - 미리 최대 길이를 지정해야 함"
   ]
  },
  {
   "cell_type": "markdown",
   "id": "2ed37e06",
   "metadata": {},
   "source": [
    "## 2. 파이썬과 배열"
   ]
  },
  {
   "cell_type": "code",
   "execution_count": 7,
   "id": "d697d9e1",
   "metadata": {},
   "outputs": [
    {
     "name": "stdout",
     "output_type": "stream",
     "text": [
      "[1, 2, 3, 4, 5]\n"
     ]
    }
   ],
   "source": [
    "# 1차원 배열 리스트로 구현시 \n",
    "data = [1,2,3,4,5]\n",
    "print(data)"
   ]
  },
  {
   "cell_type": "code",
   "execution_count": 12,
   "id": "14f45254",
   "metadata": {},
   "outputs": [
    {
     "name": "stdout",
     "output_type": "stream",
     "text": [
      "[[1, 2, 3], [4, 5, 6], [7, 8, 9]]\n"
     ]
    }
   ],
   "source": [
    "# 2차원 배열 리스트로 구현시\n",
    "data = [[1,2,3], [4,5,6], [7,8,9]]\n",
    "print(data)"
   ]
  },
  {
   "cell_type": "code",
   "execution_count": 10,
   "id": "8e08b702",
   "metadata": {},
   "outputs": [
    {
     "name": "stdout",
     "output_type": "stream",
     "text": [
      "[1, 2, 3]\n"
     ]
    }
   ],
   "source": [
    "print(data[0][0])\n",
    "print(data[0][1])\n",
    "print(data[0][2])\n",
    "print(data[1][0])"
   ]
  },
  {
   "cell_type": "markdown",
   "id": "beb18f0d",
   "metadata": {},
   "source": [
    "## 3.프로그래밍 연습"
   ]
  },
  {
   "cell_type": "markdown",
   "id": "38ec1133",
   "metadata": {},
   "source": [
    "연습 1: 위의 2차원 배열에서 9,8,7 순서로 출력해보기"
   ]
  },
  {
   "cell_type": "code",
   "execution_count": null,
   "id": "f959529f",
   "metadata": {},
   "outputs": [],
   "source": []
  }
 ],
 "metadata": {
  "kernelspec": {
   "display_name": "Python 3 (ipykernel)",
   "language": "python",
   "name": "python3"
  },
  "language_info": {
   "codemirror_mode": {
    "name": "ipython",
    "version": 3
   },
   "file_extension": ".py",
   "mimetype": "text/x-python",
   "name": "python",
   "nbconvert_exporter": "python",
   "pygments_lexer": "ipython3",
   "version": "3.9.12"
  }
 },
 "nbformat": 4,
 "nbformat_minor": 5
}
