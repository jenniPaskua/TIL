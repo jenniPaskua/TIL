{
 "cells": [
  {
   "cell_type": "markdown",
   "id": "4675fd35",
   "metadata": {},
   "source": [
    "## Realm SDK"
   ]
  },
  {
   "cell_type": "code",
   "execution_count": null,
   "id": "73420c83",
   "metadata": {},
   "outputs": [],
   "source": [
    "- 폰에서 데이터베이스 저장 "
   ]
  }
 ],
 "metadata": {
  "kernelspec": {
   "display_name": "Python 3 (ipykernel)",
   "language": "python",
   "name": "python3"
  },
  "language_info": {
   "codemirror_mode": {
    "name": "ipython",
    "version": 3
   },
   "file_extension": ".py",
   "mimetype": "text/x-python",
   "name": "python",
   "nbconvert_exporter": "python",
   "pygments_lexer": "ipython3",
   "version": "3.9.12"
  }
 },
 "nbformat": 4,
 "nbformat_minor": 5
}
