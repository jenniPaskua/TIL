{
 "cells": [
  {
   "cell_type": "markdown",
   "id": "954afad5",
   "metadata": {},
   "source": [
    "### RN Study"
   ]
  },
  {
   "cell_type": "markdown",
   "id": "005b307c",
   "metadata": {},
   "source": [
    "- watchman : 페이스북에서 제작한 파일 시스템 변경 감지 도구\n",
    "    - 파일의 변화를 감지하고 파일의 변화가 조건을 만족시키면 특정 동작 실행\n",
    "    - RN에서 와치맨은 소스코드의 변화를 감지하고 자동으로 빌드하여 화면에 업로드"
   ]
  },
  {
   "cell_type": "markdown",
   "id": "5d4bb3c1",
   "metadata": {},
   "source": [
    "- Homebrew: Max Howell이 만든 맥용 Package manager\n",
    "    - 맥에 필요한 패키지를 쉽고 간단하게 설치하고 관리할 수 있다"
   ]
  },
  {
   "cell_type": "markdown",
   "id": "841be02f",
   "metadata": {},
   "source": [
    "- Node.js 설치하여 npm(node package manager) 설치"
   ]
  },
  {
   "cell_type": "markdown",
   "id": "76764e8f",
   "metadata": {},
   "source": [
    "- nvm(node version manager)는 맥 환경에서 여러 버전의 Node.js를 설치하고 관리할 수 있도록 도와주는 도구"
   ]
  },
  {
   "cell_type": "markdown",
   "id": "e7e29340",
   "metadata": {},
   "source": [
    "- JDK(java development kit) "
   ]
  },
  {
   "cell_type": "markdown",
   "id": "5f97d553",
   "metadata": {},
   "source": [
    "- IDE(integrated development environment)"
   ]
  },
  {
   "cell_type": "markdown",
   "id": "d7cf45ff",
   "metadata": {},
   "source": [
    "- Expo: 리액트 네이티브를 편하게 사용할 수 있도록 미리 여러 가지 설정이 되어 있는 툴\n",
    "    - 장점 : 접근성이 편하다 \n",
    "    - 단점 : 제공된 API 외에 필요한 기능을 네이티브 모듈에서 만드는 것이 불가능, 빌드 파일이 크다"
   ]
  },
  {
   "cell_type": "markdown",
   "id": "72078235",
   "metadata": {},
   "source": [
    "#### JSX(javascript XML)"
   ]
  },
  {
   "cell_type": "raw",
   "id": "7a3a2764",
   "metadata": {},
   "source": [
    "<View style={styles.contianer}>\n",
    " <Text>Open</Text>\n",
    "</View>"
   ]
  },
  {
   "cell_type": "markdown",
   "id": "4b72d741",
   "metadata": {},
   "source": [
    "#### * 하나의 부모"
   ]
  },
  {
   "cell_type": "markdown",
   "id": "b2f47d06",
   "metadata": {},
   "source": [
    "- JSX에서 여러 개의 요소를 표현할 경우 반드시 하나의 부모로 감싸야 한다. "
   ]
  },
  {
   "cell_type": "raw",
   "id": "4126c8a5",
   "metadata": {},
   "source": [
    "<View style={styles.contianer}>\n",
    " <Text>Open</Text>\n",
    " <StatusBar style=\"auto\"/>\n",
    "</View>"
   ]
  },
  {
   "cell_type": "markdown",
   "id": "640bbc74",
   "metadata": {},
   "source": [
    "#### Fragment component"
   ]
  },
  {
   "cell_type": "markdown",
   "id": "ffd0fa5a",
   "metadata": {},
   "source": [
    "- 컴포넌트를 반환할 때 View 컴포넌트처럼 특정 역할을 하는 컴포넌트로 감싸지 않고 여러 개의 컴포넌트를 반환하고 싶은 경우\n",
    "Fragment 컴포넌트를 사용한다"
   ]
  },
  {
   "cell_type": "raw",
   "id": "36c90086",
   "metadata": {},
   "source": [
    "<Fragment>\n",
    " <Text>Open</Text>\n",
    " <StatusBar style=\"auto\"/>\n",
    "</Fragment>"
   ]
  },
  {
   "cell_type": "markdown",
   "id": "a40664b2",
   "metadata": {},
   "source": [
    "- <Fragment> 단축 문법 <> 제공"
   ]
  },
  {
   "cell_type": "markdown",
   "id": "8042e3d9",
   "metadata": {},
   "source": [
    "- JSX 내부에 자바스크립트 변수 전달 가능"
   ]
  },
  {
   "cell_type": "raw",
   "id": "1be4068a",
   "metadata": {},
   "source": [
    "const name = \"jenn\";\n",
    "<Text style={styles.text}>My name is {name}</Text>"
   ]
  },
  {
   "cell_type": "markdown",
   "id": "d3ba0d8d",
   "metadata": {},
   "source": [
    "#### null과 undefined"
   ]
  },
  {
   "cell_type": "markdown",
   "id": "0d4bbbb1",
   "metadata": {},
   "source": [
    "- JSX는 null은 허용 undefined는 오류 발생함 "
   ]
  },
  {
   "cell_type": "markdown",
   "id": "8336332d",
   "metadata": {},
   "source": [
    "### Props와 State"
   ]
  },
  {
   "cell_type": "markdown",
   "id": "91c1bb0e",
   "metadata": {},
   "source": [
    "- props는 properties, 부모 컴포넌트로부터 전달된 속성값 혹은 상속받은 속성값을 말한다.\n",
    "- 부모컴포넌트가 자식 컴포넌트의 props를 설정하면 자식 컴포넌트에서는 해당 props를 사용할 수 있지만 변경은 불가능"
   ]
  },
  {
   "cell_type": "markdown",
   "id": "1fe0cfbc",
   "metadata": {},
   "source": [
    "#### propTypes"
   ]
  },
  {
   "cell_type": "markdown",
   "id": "13189bbc",
   "metadata": {},
   "source": [
    "- 컴포넌트에 props를 전달할 때 잘못된 타입을 전달하거나, 필수로 전달해야 하는 값을 전달하지 않아 문제 발생하는데 propTyeps를 사용하면 된다\n",
    "- npm install prop-types로 설치\n",
    "- propTypes가 있지만 typescript를 사용하는 게 더 나음 "
   ]
  },
  {
   "cell_type": "raw",
   "id": "31960694",
   "metadata": {},
   "source": [
    "// title에 전달되어야 하는 값의 타입은 숫자임을 설정\n",
    "MyButton.propTypes = {\n",
    "    title: PropTypes.number,\n",
    "};"
   ]
  },
  {
   "cell_type": "markdown",
   "id": "cd54f55e",
   "metadata": {},
   "source": [
    "#### state"
   ]
  },
  {
   "cell_type": "markdown",
   "id": "43357827",
   "metadata": {},
   "source": [
    "- state는 컴포넌트 내부에서 생성되고 값을 변경할 수 있으며 이를 이용해 컴포넌트 상태를 관리한다.\n",
    "- 상태란 컴포넌트에서 변화할 수 있는 값을 나타내며, 상태가 변하면 컴포넌트는 re-rendering된다.\n",
    "- 과거 리액트 네이티브의 경우 함수형 컴포넌트에서 상태를 관리할 수 없었기 때문에, 상태를 관리해야하는 컴포넌트는 반드시 클래스형 컴포넌트를 사용해야 했다. 하지만 리액트 16.8, 리액트 네이티브 0.59버전부터는 Hooks라는 것을 사용해 함수형 컴포넌트에서도 상태를 관리할 수 있게 되었다. "
   ]
  },
  {
   "cell_type": "markdown",
   "id": "cc4cc82c",
   "metadata": {},
   "source": [
    "#### useState 사용하기"
   ]
  },
  {
   "cell_type": "raw",
   "id": "0c8b4e0a",
   "metadata": {},
   "source": [
    "const [state, setState] = useState(initialState);"
   ]
  },
  {
   "cell_type": "markdown",
   "id": "387379aa",
   "metadata": {},
   "source": [
    "- useState는 상태를 관리하는 변수와 그 변수를 변경할 수 있는 세터(setter)함수를 배열로 반환한다.\n",
    "- 상태 변수는 직접 변경이 아니라 useState함수에서 반환한 세터 함수를 이용해야 한다.\n",
    "- useState 함수를 호출할 때 파라미터에 생성되는 상태의 초깃값을 전달할 수 있고, 초깃값을 전달하지 않으면 undefined로 설정되어 에러가 발생할 수 있으므로 항상 초기값을 설정하는 것이 좋다."
   ]
  },
  {
   "cell_type": "markdown",
   "id": "93dbb353",
   "metadata": {},
   "source": [
    "#### pressble component"
   ]
  },
  {
   "cell_type": "markdown",
   "id": "aebd8e28",
   "metadata": {},
   "source": [
    "- npx react-native init RNPressable\n",
    "- 버튼 이벤트의 hitRect를 보다 크게 잡아주는 기능도 포함되어 있음 "
   ]
  },
  {
   "cell_type": "markdown",
   "id": "e3d14466",
   "metadata": {},
   "source": [
    "#### ThemeProvider"
   ]
  },
  {
   "cell_type": "markdown",
   "id": "0f58566d",
   "metadata": {},
   "source": [
    "- 스타일드 컴포넌트의 ThemeProvider는 Context API를 활용해 애플리케이션 전체에서 스타일드 컴포넌트를 이용할 때 미리 정의한 값들을 사용할 수 있도록 props로 전달한다. \n",
    "- 즉 모든 컴포넌트를 감싸는 최상위 컴포넌트로 ThemeProvider 컴포넌트를 사용한다. \n",
    "- 하나의 파일에서 모든 색을 관리하면 색의 사용이나 변경 등 유지보수가 쉽다."
   ]
  },
  {
   "cell_type": "markdown",
   "id": "d9d57a32",
   "metadata": {},
   "source": [
    "## 디자인 협업 도구"
   ]
  },
  {
   "cell_type": "markdown",
   "id": "fd05d329",
   "metadata": {},
   "source": [
    "#### Figma"
   ]
  },
  {
   "cell_type": "markdown",
   "id": "446a63d6",
   "metadata": {},
   "source": [
    "## Hooks "
   ]
  },
  {
   "cell_type": "markdown",
   "id": "acdcc4c4",
   "metadata": {},
   "source": [
    "- hooks는 리액트 16.8 버전에서 새롭게 추가된 기능\n",
    "- 이전에는 컴포넌트 상태를 관리하거나 생명 주기에 따라 특정 작업을 수행하려면 클래스형 컴포넌트를 사용해야 했다. \n",
    "- 하지만 hooks를 이용할 수 있게 되면서 함수형 컴포넌트에서도 상태를 관리할 수 있게 되었고 컴포넌트의 생명 주기에 맞춰 특정 작업을 수행할 수 있게 되었다. \n",
    "- expo init react-native-hooks"
   ]
  },
  {
   "cell_type": "markdown",
   "id": "bdcb16d1",
   "metadata": {},
   "source": [
    "#### Setter 함수"
   ]
  },
  {
   "cell_type": "markdown",
   "id": "73e12c2b",
   "metadata": {},
   "source": [
    "- useState의 세터함수는 비동기로 동작하기 때문에 상태 변경이 여러 번 일어날 경우 상태가 변경되기 전에 또 다시 상태에 대한 업데이트가 실행되는 상황이 발생한다.\n",
    "- 세터 함수를 호출해도 바로 상태가 변경되지 않는다는 점에서 발생하는 문제이다. \n",
    "- 상태에 대한 업데이트가 여러번 함께 발생할 경우, 세터 함수에 함수를 인자로 전달하여 이전 상태값을 이용하면 문제를 해결할 수 있다. "
   ]
  },
  {
   "cell_type": "markdown",
   "id": "8888dd60",
   "metadata": {},
   "source": [
    "## useEffect"
   ]
  },
  {
   "cell_type": "markdown",
   "id": "8dd5eacc",
   "metadata": {},
   "source": [
    "- useEffect는 컴포넌트가 렌더링될 때마다 원하는 작업이 실행되도록 설정할 수 있는 기능으로 사용 방법은 다음과 같다. \n",
    "- useEffect(() => {}, []);\n",
    "- useEffect의 첫 번째 파라미터로 전달된 함수는 조건을 만족할 때마다 호출되고, 두 번째 파라미터로 전달되는 배열을 이용해 함수가 호출되는 조건을 설정할 수 있다."
   ]
  },
  {
   "cell_type": "markdown",
   "id": "e6d2b002",
   "metadata": {},
   "source": [
    "- useEffect의 두번째 파라미터에 어떤 값도 전달하지 않으면 useEffect의 첫 번째 파라미터로 전달된 함수는 컴포넌트가 렌더링될 때마다 호출된다. "
   ]
  },
  {
   "cell_type": "raw",
   "id": "7defd26b",
   "metadata": {},
   "source": [
    "useEffect(() => {\n",
    "    console.log(`name: ${name}, email: ${email}\\n`);\n",
    "});"
   ]
  },
  {
   "cell_type": "markdown",
   "id": "ad5756f0",
   "metadata": {},
   "source": [
    "#### 특정 조건에서 실행하기"
   ]
  },
  {
   "cell_type": "markdown",
   "id": "c0d8b71d",
   "metadata": {},
   "source": [
    "- useEffect의 두 번째 파라미터로 email을 지정해 email의 상태가 변경되었을 때만 함수가 실행되도록 수정"
   ]
  },
  {
   "cell_type": "raw",
   "id": "69b9a538",
   "metadata": {},
   "source": [
    "useEffect(() => {\n",
    "    console.log(`name: ${name}, email: ${email}\\n`);\n",
    "}, [email]);"
   ]
  },
  {
   "cell_type": "markdown",
   "id": "c4d2233c",
   "metadata": {},
   "source": [
    "#### 마운트될 때 실행하기"
   ]
  },
  {
   "cell_type": "markdown",
   "id": "41ffa850",
   "metadata": {},
   "source": [
    "- 컴포넌트가 mount 될 때로 설정하려면, useEffect의 두 번째 파라미터에 빈 배열을 전달하면 된다. \n",
    "- 컴포넌트가 처음 렌더링될때만 함수가 호출된다. "
   ]
  },
  {
   "cell_type": "raw",
   "id": "8ed43b32",
   "metadata": {},
   "source": [
    "useEffect(() => {\n",
    "    console.log(`name: ${name}, email: ${email}\\n`);\n",
    "}, []);"
   ]
  },
  {
   "cell_type": "markdown",
   "id": "73b92d2a",
   "metadata": {},
   "source": [
    "#### 언마운트될 때 실행하기"
   ]
  },
  {
   "cell_type": "markdown",
   "id": "f5020a7b",
   "metadata": {},
   "source": [
    "- useEffect에서 전달하는 함수에서 반환하는 함수를 정리함수 cleanup 함수라고 하는데, 아래의 경우 실행시킨다."
   ]
  },
  {
   "cell_type": "raw",
   "id": "2e590bf9",
   "metadata": {},
   "source": [
    "useEffect(() => {\n",
    "    console.log('\\n==== Form Component Mount ====\\n');\n",
    "    return () => console.log('\\n==== Form Component Unmount ====\\n');\n",
    "}, []);"
   ]
  }
 ],
 "metadata": {
  "kernelspec": {
   "display_name": "Python 3 (ipykernel)",
   "language": "python",
   "name": "python3"
  },
  "language_info": {
   "codemirror_mode": {
    "name": "ipython",
    "version": 3
   },
   "file_extension": ".py",
   "mimetype": "text/x-python",
   "name": "python",
   "nbconvert_exporter": "python",
   "pygments_lexer": "ipython3",
   "version": "3.9.12"
  }
 },
 "nbformat": 4,
 "nbformat_minor": 5
}
